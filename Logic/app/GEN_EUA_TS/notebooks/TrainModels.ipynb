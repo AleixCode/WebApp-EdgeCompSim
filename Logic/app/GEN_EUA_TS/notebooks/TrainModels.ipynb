{
 "cells": [
  {
   "cell_type": "code",
   "id": "initial_id",
   "metadata": {
    "collapsed": true,
    "ExecuteTime": {
     "end_time": "2024-07-26T14:50:33.169518Z",
     "start_time": "2024-07-26T14:50:33.163425Z"
    }
   },
   "source": [
    "import math\n",
    "\n",
    "import matplotlib.pyplot as plt\n",
    "\n",
    "rad = lambda x: x*math.pi/180\n",
    "\n",
    "# x = {float} 2.1482423649299967\n",
    "# y = {float} 41.39141715798787\n",
    "# \n",
    "# x = {float} 2.1456008364873647\n",
    "# y = {float} 41.38433040229162\n",
    "\n",
    "lon2 = 2.1482423649299967\n",
    "lat2 = 41.39141715798787\n",
    "\n",
    "lon1 = 2.1456008364873647\n",
    "lat1 = 41.38433040229162\n",
    "\n",
    "lat1:float = math.radians(lat1)\n",
    "lon1:float = math.radians(lon1)\n",
    "lat2:float = math.radians(lat2)\n",
    "lon2:float = math.radians(lon2)\n",
    "\n",
    "distance =math.acos(math.sin(lat1)*math.sin(lat2)+math.cos(lat1)*math.cos(lat2)*math.cos(lon2-lon1))*6371000\n",
    "print(distance)\n",
    "[0.00493344]"
   ],
   "outputs": [
    {
     "name": "stdout",
     "output_type": "stream",
     "text": [
      "818.244133968274\n"
     ]
    },
    {
     "data": {
      "text/plain": [
       "[0.00493344]"
      ]
     },
     "execution_count": 12,
     "metadata": {},
     "output_type": "execute_result"
    }
   ],
   "execution_count": 12
  },
  {
   "metadata": {
    "ExecuteTime": {
     "end_time": "2024-07-26T13:54:41.756620Z",
     "start_time": "2024-07-26T13:54:41.677494Z"
    }
   },
   "cell_type": "code",
   "source": [
    "import math\n",
    "import pymongo\n",
    "import numpy as np\n",
    "from ngboost import NGBRegressor\n",
    "from ngboost.distns import Normal\n",
    "from ngboost.scores import LogScore\n",
    "from sklearn.linear_model import LogisticRegression\n",
    "from sklearn.model_selection import train_test_split\n",
    "\n",
    "def get_data(days):\n",
    "    \n",
    "    client = pymongo.MongoClient(\"mongodb://localhost:27017/\")\n",
    "\n",
    "    if \"EUA_db\" in client.list_database_names():\n",
    "        client.drop_database(\"EUA_db\")\n",
    "    db = client[\"EUA_db\"]\n",
    "\n",
    "    # Create two collections (tables)\n",
    "    server_data = db[\"servers_data\"]\n",
    "    \n",
    "\n",
    "\n",
    "def create_models(days):\n",
    "\n",
    "    P= 1440\n",
    "    servers = get_data(days)\n",
    "    pred_onoff = []\n",
    "    pred_level = []\n",
    "\n",
    "    for server in range(len(servers)):\n",
    "\n",
    "        # On/off prediction\n",
    "        # Prepare data for periodic logistic regression\n",
    "        # Create apply transformations to time taking account periods\n",
    "        C = lambda t: math.cos(t * 2 * math.pi /P)\n",
    "        S = lambda t: math.sin(t * 2 * math.pi /P)\n",
    "        time = np.array([[C(t),S(t)] for t in range(days*P)])\n",
    "        data_server = servers[server]\n",
    "\n",
    "        # Server on/off model creation\n",
    "        server_status = data_server['on_off']\n",
    "        pred = LogisticRegression(solver='liblinear', random_state=0)\n",
    "        pred.fit(time,server_status)\n",
    "        pred_onoff.append(pred)\n",
    "\n",
    "        # # Preparing data for server level prediction\n",
    "        # # Server level prediction\n",
    "        # for resource in range(len(test.input.servers[server].resources)):\n",
    "        #     x_train, _, y_train, _ = train_test_split(\n",
    "        #                                             data_server.drop(columns = resource),\n",
    "        #                                             data_server[resource],\n",
    "        #                                             train_size = 0.75,\n",
    "        #                                             random_state = 1212324)\n",
    "        #     ngb_model = NGBRegressor(Dist=Normal, Score=LogScore)\n",
    "        #     ngb_model.set_params(n_estimators=2000, max_depth=3, learning_rate=0.01)\n",
    "        #     ngb_model.fit(x_train, y_train)\n",
    "        #     pred_level[server][resource] = ngb_model\n",
    "\n",
    "\n",
    "get_data(90)"
   ],
   "id": "49c034574c45fb1c",
   "outputs": [],
   "execution_count": 9
  },
  {
   "metadata": {
    "ExecuteTime": {
     "end_time": "2024-07-29T15:59:32.716300Z",
     "start_time": "2024-07-29T15:59:30.500505Z"
    }
   },
   "cell_type": "code",
   "source": [
    "import geopandas as gpd\n",
    "districts = gpd.read_file('../inputs/map_bcn.json')\n",
    "districts[districts['BARRI']=='70'].plot()\n",
    "# districts['BARRI']"
   ],
   "id": "90634b345f66a941",
   "outputs": [
    {
     "data": {
      "text/plain": [
       "<Axes: >"
      ]
     },
     "execution_count": 15,
     "metadata": {},
     "output_type": "execute_result"
    },
    {
     "data": {
      "text/plain": [
       "<Figure size 640x480 with 1 Axes>"
      ],
      "image/png": "[encoded data removed]"
     },
     "metadata": {},
     "output_type": "display_data"
    }
   ],
   "execution_count": 15
  },
  {
   "metadata": {
    "ExecuteTime": {
     "end_time": "2024-07-29T16:02:08.796726Z",
     "start_time": "2024-07-29T16:02:08.564124Z"
    }
   },
   "cell_type": "code",
   "source": [
    "import math\n",
    "import pandas as pd\n",
    "import matplotlib.pyplot as plt\n",
    "\n",
    "df = pd.read_csv('../servers.txt',sep=\"\\t\")\n",
    "df['lat'] = df.apply(lambda x: math.radians(x['lat']),axis=1)\n",
    "df['lon'] = df.apply(lambda x: math.radians(x['lon']),axis=1)\n",
    "# display(df)\n",
    "\n",
    "dist = lambda s: math.acos(math.sin(s[0]['lat'])*math.sin(s[1]['lat'])+math.cos(s[0]['lat'])*math.cos(s[1]['lat'])*math.cos(s[1]['lon']-s[0]['lon']))*6371000\n",
    "\n",
    "l = [(row1,row2) for idx1,row1 in df.iterrows() for idx2,row2 in df.iterrows() if idx1!=idx2]\n",
    "distances = list(map(dist,l))\n",
    "\n",
    "plt.xlabel(\"Distance (m)\")\n",
    "\n",
    "print(min(distances))\n",
    "print(max(distances))\n",
    "plot = plt.hist(distances)\n",
    "#plot = plt.hist(distances,density=True,cumulative=True)"
   ],
   "id": "f0c701c5d9d66a59",
   "outputs": [
    {
     "name": "stdout",
     "output_type": "stream",
     "text": [
      "23.166547060636173\n",
      "1892.876139169879\n"
     ]
    },
    {
     "data": {
      "text/plain": [
       "<Figure size 640x480 with 1 Axes>"
      ],
      "image/png": "[encoded data removed]"
     },
     "metadata": {},
     "output_type": "display_data"
    }
   ],
   "execution_count": 17
  },
  {
   "metadata": {
    "ExecuteTime": {
     "end_time": "2024-07-27T06:59:35.398292Z",
     "start_time": "2024-07-27T06:59:35.395531Z"
    }
   },
   "cell_type": "code",
   "source": "df.shape",
   "id": "120e294a889bc38b",
   "outputs": [
    {
     "data": {
      "text/plain": [
       "(31, 2)"
      ]
     },
     "execution_count": 26,
     "metadata": {},
     "output_type": "execute_result"
    }
   ],
   "execution_count": 26
  },
  {
   "metadata": {
    "ExecuteTime": {
     "end_time": "2024-07-27T07:00:21.531402Z",
     "start_time": "2024-07-27T07:00:21.528732Z"
    }
   },
   "cell_type": "code",
   "source": "31*31/2",
   "id": "6055136fbd70ebfe",
   "outputs": [
    {
     "data": {
      "text/plain": [
       "480.5"
      ]
     },
     "execution_count": 29,
     "metadata": {},
     "output_type": "execute_result"
    }
   ],
   "execution_count": 29
  },
  {
   "metadata": {},
   "cell_type": "code",
   "outputs": [],
   "execution_count": null,
   "source": "",
   "id": "543f5ac566639d22"
  }
 ],
 "metadata": {
  "kernelspec": {
   "display_name": "Python 3",
   "language": "python",
   "name": "python3"
  },
  "language_info": {
   "codemirror_mode": {
    "name": "ipython",
    "version": 2
   },
   "file_extension": ".py",
   "mimetype": "text/x-python",
   "name": "python",
   "nbconvert_exporter": "python",
   "pygments_lexer": "ipython2",
   "version": "2.7.6"
  }
 },
 "nbformat": 4,
 "nbformat_minor": 5
}
